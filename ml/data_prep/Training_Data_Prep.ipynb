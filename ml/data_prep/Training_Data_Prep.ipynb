{
  "nbformat": 4,
  "nbformat_minor": 0,
  "metadata": {
    "colab": {
      "name": "Tic Tac Toe - Training Data Prep",
      "provenance": []
    },
    "kernelspec": {
      "name": "python3",
      "display_name": "Python 3"
    },
    "language_info": {
      "name": "python"
    }
  },
  "cells": [
    {
      "cell_type": "markdown",
      "source": [
        "## Import datasets"
      ],
      "metadata": {
        "id": "0pG_Kg24wWz6"
      }
    },
    {
      "cell_type": "code",
      "execution_count": 77,
      "metadata": {
        "colab": {
          "base_uri": "https://localhost:8080/"
        },
        "id": "Hj6PchBDokUF",
        "outputId": "8353ecc3-0174-4805-a565-e2d6372af1ad"
      },
      "outputs": [
        {
          "output_type": "stream",
          "name": "stdout",
          "text": [
            "--------------------\n",
            "X RANDOM vs O RANDOM:\n",
            "1.0    0.460388\n",
            "0.0    0.386149\n",
            "0.5    0.153463\n",
            "Name: outcome, dtype: float64\n",
            "--------------------\n",
            "X RANDOM vs O EXPERT:\n",
            "1.0    0.381239\n",
            "0.0    0.381239\n",
            "0.5    0.237522\n",
            "Name: outcome, dtype: float64\n",
            "--------------------\n",
            "X EXPERT vs O RANDOM:\n",
            "1.0    0.568935\n",
            "0.0    0.398080\n",
            "0.5    0.032984\n",
            "Name: outcome, dtype: float64\n",
            "--------------------\n",
            "X EXPERT vs O EXPERT:\n",
            "0.5    1.0\n",
            "Name: outcome, dtype: float64\n"
          ]
        }
      ],
      "source": [
        "from pandas import read_csv\n",
        "\n",
        "print(\"--------------------\")\n",
        "print(\"X RANDOM vs O RANDOM:\")\n",
        "rr = read_csv(\"https://github.com/s2t2/tic-tac-toe-py/files/7921041/random_random_1000.csv\")\n",
        "rr[\"dataset_id\"] = \"random_vs_random\"\n",
        "print(rr[\"outcome\"].value_counts(normalize=True))\n",
        "\n",
        "print(\"--------------------\")\n",
        "print(\"X RANDOM vs O EXPERT:\")\n",
        "rm = read_csv(\"https://github.com/s2t2/tic-tac-toe-py/files/7921043/random_minimaxab_1000.csv\")\n",
        "rm[\"dataset_id\"] = \"random_vs_expert\"\n",
        "print(rm[\"outcome\"].value_counts(normalize=True))\n",
        "\n",
        "print(\"--------------------\")\n",
        "print(\"X EXPERT vs O RANDOM:\")\n",
        "mr = read_csv(\"https://github.com/s2t2/tic-tac-toe-py/files/7921050/minimaxab_random_1000.csv\")\n",
        "mr[\"dataset_id\"] = \"expert_vs_random\"\n",
        "print(mr[\"outcome\"].value_counts(normalize=True))\n",
        "\n",
        "print(\"--------------------\")\n",
        "print(\"X EXPERT vs O EXPERT:\")\n",
        "mm = read_csv(\"https://github.com/s2t2/tic-tac-toe-py/files/7921045/minimaxab_minimaxab_1000.csv\")\n",
        "print(mm[\"outcome\"].value_counts(normalize=True))\n",
        "mm[\"dataset_id\"] = \"expert_vs_expert\"\n"
      ]
    },
    {
      "cell_type": "markdown",
      "source": [
        "## Combine Datasets"
      ],
      "metadata": {
        "id": "FVHOoqIYwf39"
      }
    },
    {
      "cell_type": "code",
      "source": [
        "from pandas import concat\n",
        "\n",
        "combined_df = concat([rr, rm, mr, mm])\n",
        "\n",
        "print(combined_df)\n",
        "\n",
        "print(\"-------------\")\n",
        "print(\"OUTCOMES:\")\n",
        "print(combined_df[\"outcome\"].value_counts(normalize=True))\n",
        "\n",
        "print(\"-------------\")\n",
        "print(\"DATASETS:\")\n",
        "print(combined_df[\"dataset_id\"].value_counts(normalize=True))"
      ],
      "metadata": {
        "colab": {
          "base_uri": "https://localhost:8080/"
        },
        "id": "SZb0fWyQpshF",
        "outputId": "fdbc27a6-cfb2-4ad0-ef58-33c1181bdd2c"
      },
      "execution_count": 78,
      "outputs": [
        {
          "output_type": "stream",
          "name": "stdout",
          "text": [
            "      game_id  move_id a1 b1 c1 a2  ... a3 b3 c3 player outcome        dataset_id\n",
            "0           1        1  X  -  -  -  ...  -  -  -      X     1.0  random_vs_random\n",
            "1           1        2  X  -  -  -  ...  -  O  -      O     0.0  random_vs_random\n",
            "2           1        3  X  X  -  -  ...  -  O  -      X     1.0  random_vs_random\n",
            "3           1        4  X  X  -  -  ...  -  O  -      O     0.0  random_vs_random\n",
            "4           1        5  X  X  -  X  ...  -  O  -      X     1.0  random_vs_random\n",
            "...       ...      ... .. .. .. ..  ... .. .. ..    ...     ...               ...\n",
            "8995     1000        5  X  X  O  -  ...  X  -  -      X     0.5  expert_vs_expert\n",
            "8996     1000        6  X  X  O  O  ...  X  -  -      O     0.5  expert_vs_expert\n",
            "8997     1000        7  X  X  O  O  ...  X  -  -      X     0.5  expert_vs_expert\n",
            "8998     1000        8  X  X  O  O  ...  X  O  -      O     0.5  expert_vs_expert\n",
            "8999     1000        9  X  X  O  O  ...  X  O  X      X     0.5  expert_vs_expert\n",
            "\n",
            "[29326 rows x 14 columns]\n",
            "-------------\n",
            "OUTCOMES:\n",
            "0.5    0.409705\n",
            "1.0    0.321489\n",
            "0.0    0.268806\n",
            "Name: outcome, dtype: float64\n",
            "-------------\n",
            "DATASETS:\n",
            "expert_vs_expert    0.306895\n",
            "random_vs_random    0.259974\n",
            "random_vs_expert    0.237741\n",
            "expert_vs_random    0.195390\n",
            "Name: dataset_id, dtype: float64\n"
          ]
        }
      ]
    },
    {
      "cell_type": "code",
      "source": [
        "combined_df.to_csv(\"move_values.csv\", index=False)\n"
      ],
      "metadata": {
        "id": "S9oYL8hFqALA"
      },
      "execution_count": 79,
      "outputs": []
    },
    {
      "cell_type": "markdown",
      "source": [
        "# Separate Player Perspectives"
      ],
      "metadata": {
        "id": "oiKMMt0BMyKk"
      }
    },
    {
      "cell_type": "code",
      "source": [
        "df = combined_df.copy()\n",
        "\n",
        "x_rows = df[df[\"player\"] == \"X\"]\n",
        "o_rows = df[df[\"player\"] == \"O\"]\n",
        "print(\"X ROWS:\", len(x_rows))\n",
        "print(\"O ROWS:\", len(o_rows))\n",
        "print(\"TOTAL :\", len(df))"
      ],
      "metadata": {
        "colab": {
          "base_uri": "https://localhost:8080/"
        },
        "id": "Yb5xL0mcM0T8",
        "outputId": "0b270a88-ffa2-40a5-96fc-2fd3ef84770f"
      },
      "execution_count": 80,
      "outputs": [
        {
          "output_type": "stream",
          "name": "stdout",
          "text": [
            "X ROWS: 16103\n",
            "O ROWS: 13223\n",
            "TOTAL : 29326\n"
          ]
        }
      ]
    },
    {
      "cell_type": "code",
      "source": [
        "o_rows.to_csv(\"move_values_o.csv\")\n",
        "x_rows.to_csv(\"move_values_x.csv\")"
      ],
      "metadata": {
        "id": "rz6yYomRM9aJ"
      },
      "execution_count": 81,
      "outputs": []
    },
    {
      "cell_type": "markdown",
      "source": [
        "## Normalize O Player Perspective"
      ],
      "metadata": {
        "id": "XG1xWzn4Gvwk"
      }
    },
    {
      "cell_type": "code",
      "source": [
        "OPPOSITE_PERSPECTIVES = {\"X\":\"O\", \"O\":\"X\", \"-\":\"-\"}\n",
        "OPPOSITE_OUTCOMES = {1:0, 0:1, 0.5:0.5}\n",
        "\n",
        "def normalize_square(val):\n",
        "    return OPPOSITE_PERSPECTIVES[val]\n",
        "\n",
        "#def normalize_board(board_notation):\n",
        "#    return \"\".join([normalize(char) for char in board_notation])\n",
        "\n",
        "def normalize_outcome(val):\n",
        "    return OPPOSITE_OUTCOMES[val]\n",
        "\n",
        "assert normalize(\"X\") == \"O\"\n",
        "assert normalize(\"O\") == \"X\"\n",
        "assert normalize(\"-\") == \"-\"\n",
        "#assert normalize_board(\"XO-XO----\") == \"OX-OX----\"\n",
        "\n",
        "assert normalize_outcome(1) == 0\n",
        "assert normalize_outcome(0.5) == 0.5\n",
        "assert normalize_outcome(0) == 1\n"
      ],
      "metadata": {
        "id": "530ZTDGEGz2u"
      },
      "execution_count": 82,
      "outputs": []
    },
    {
      "cell_type": "code",
      "source": [
        "print(\"\\n--------------------\")\n",
        "print(\"ORIGINAL PERSPECTIVES:\")\n",
        "print(o_rows[[\"a1\",\"b1\", \"c1\", \"a2\",\"b2\", \"c2\", \"a3\",\"b3\", \"c3\", \"player\", \"outcome\"]].head())\n",
        "print(o_rows[\"outcome\"].value_counts(normalize=True))\n",
        "\n",
        "# NORMALIZING...\n",
        "new_o_rows = o_rows.copy()\n",
        "\n",
        "#new_o_rows[\"board_state\"] = o_rows[\"board_state\"].apply(normalize_board)\n",
        "for col in [\"a1\",\"b1\",\"c1\",\"a2\",\"b2\",\"c2\",\"a3\",\"b3\",\"c3\"]:\n",
        "    new_o_rows[col] = o_rows[col].apply(normalize)\n",
        "new_o_rows[\"outcome\"] = o_rows[\"outcome\"].apply(normalize_outcome)\n",
        "new_o_rows[\"player\"] = \"X\" # normalize player (or drop it)\n",
        "\n",
        "print(\"\\n--------------------\")\n",
        "print(\"NORMALIZED PERSPECTIVES:\")\n",
        "print(new_o_rows[[\"a1\",\"b1\", \"c1\", \"a2\",\"b2\", \"c2\", \"a3\",\"b3\", \"c3\", \"player\", \"outcome\"]].head())\n",
        "print(new_o_rows[\"outcome\"].value_counts(normalize=True))"
      ],
      "metadata": {
        "colab": {
          "base_uri": "https://localhost:8080/"
        },
        "id": "5KusQOKcHXq3",
        "outputId": "bde4dea7-6a7b-4289-c472-007756bc231a"
      },
      "execution_count": 83,
      "outputs": [
        {
          "output_type": "stream",
          "name": "stdout",
          "text": [
            "\n",
            "--------------------\n",
            "ORIGINAL PERSPECTIVES:\n",
            "   a1 b1 c1 a2 b2 c2 a3 b3 c3 player  outcome\n",
            "1   X  -  -  -  -  -  -  O  -      O      0.0\n",
            "3   X  X  -  -  O  -  -  O  -      O      0.0\n",
            "5   X  X  -  X  O  -  -  O  O      O      0.0\n",
            "8   -  -  -  O  -  -  -  X  -      O      0.0\n",
            "10  X  -  -  O  -  O  -  X  -      O      0.0\n",
            "0.5    0.403842\n",
            "0.0    0.310141\n",
            "1.0    0.286017\n",
            "Name: outcome, dtype: float64\n",
            "\n",
            "--------------------\n",
            "NORMALIZED PERSPECTIVES:\n",
            "   a1 b1 c1 a2 b2 c2 a3 b3 c3 player  outcome\n",
            "1   O  -  -  -  -  -  -  X  -      X      1.0\n",
            "3   O  O  -  -  X  -  -  X  -      X      1.0\n",
            "5   O  O  -  O  X  -  -  X  X      X      1.0\n",
            "8   -  -  -  X  -  -  -  O  -      X      1.0\n",
            "10  O  -  -  X  -  X  -  O  -      X      1.0\n",
            "0.5    0.403842\n",
            "1.0    0.310141\n",
            "0.0    0.286017\n",
            "Name: outcome, dtype: float64\n"
          ]
        }
      ]
    },
    {
      "cell_type": "code",
      "source": [
        "# https://pandas.pydata.org/docs/reference/api/pandas.concat.html\n",
        "from pandas import concat\n",
        "\n",
        "# single-player df\n",
        "print(\"SINGLE PLAYER'S PERSPECTIVE:\")\n",
        "df_normalized = concat([x_rows, new_o_rows])\n",
        "df_normalized.drop(columns=[\"player\"], inplace=True)\n",
        "df_normalized.sort_values(by=[\"dataset_id\", \"game_id\", \"move_id\"], inplace=True)\n",
        "print(len(df_normalized))\n",
        "\n",
        "df_normalized"
      ],
      "metadata": {
        "colab": {
          "base_uri": "https://localhost:8080/",
          "height": 494
        },
        "id": "LlHj10zTHhcZ",
        "outputId": "d6e555b4-4a48-4bd9-b00c-17fa85e6753e"
      },
      "execution_count": 84,
      "outputs": [
        {
          "output_type": "stream",
          "name": "stdout",
          "text": [
            "SINGLE PLAYER'S PERSPECTIVE:\n",
            "29326\n"
          ]
        },
        {
          "output_type": "execute_result",
          "data": {
            "text/html": [
              "\n",
              "  <div id=\"df-8f5680bc-4b61-46a0-b28c-2d315e346dfe\">\n",
              "    <div class=\"colab-df-container\">\n",
              "      <div>\n",
              "<style scoped>\n",
              "    .dataframe tbody tr th:only-of-type {\n",
              "        vertical-align: middle;\n",
              "    }\n",
              "\n",
              "    .dataframe tbody tr th {\n",
              "        vertical-align: top;\n",
              "    }\n",
              "\n",
              "    .dataframe thead th {\n",
              "        text-align: right;\n",
              "    }\n",
              "</style>\n",
              "<table border=\"1\" class=\"dataframe\">\n",
              "  <thead>\n",
              "    <tr style=\"text-align: right;\">\n",
              "      <th></th>\n",
              "      <th>game_id</th>\n",
              "      <th>move_id</th>\n",
              "      <th>a1</th>\n",
              "      <th>b1</th>\n",
              "      <th>c1</th>\n",
              "      <th>a2</th>\n",
              "      <th>b2</th>\n",
              "      <th>c2</th>\n",
              "      <th>a3</th>\n",
              "      <th>b3</th>\n",
              "      <th>c3</th>\n",
              "      <th>outcome</th>\n",
              "      <th>dataset_id</th>\n",
              "    </tr>\n",
              "  </thead>\n",
              "  <tbody>\n",
              "    <tr>\n",
              "      <th>0</th>\n",
              "      <td>1</td>\n",
              "      <td>1</td>\n",
              "      <td>-</td>\n",
              "      <td>-</td>\n",
              "      <td>-</td>\n",
              "      <td>-</td>\n",
              "      <td>-</td>\n",
              "      <td>X</td>\n",
              "      <td>-</td>\n",
              "      <td>-</td>\n",
              "      <td>-</td>\n",
              "      <td>0.5</td>\n",
              "      <td>expert_vs_expert</td>\n",
              "    </tr>\n",
              "    <tr>\n",
              "      <th>1</th>\n",
              "      <td>1</td>\n",
              "      <td>2</td>\n",
              "      <td>-</td>\n",
              "      <td>-</td>\n",
              "      <td>X</td>\n",
              "      <td>-</td>\n",
              "      <td>-</td>\n",
              "      <td>O</td>\n",
              "      <td>-</td>\n",
              "      <td>-</td>\n",
              "      <td>-</td>\n",
              "      <td>0.5</td>\n",
              "      <td>expert_vs_expert</td>\n",
              "    </tr>\n",
              "    <tr>\n",
              "      <th>2</th>\n",
              "      <td>1</td>\n",
              "      <td>3</td>\n",
              "      <td>X</td>\n",
              "      <td>-</td>\n",
              "      <td>O</td>\n",
              "      <td>-</td>\n",
              "      <td>-</td>\n",
              "      <td>X</td>\n",
              "      <td>-</td>\n",
              "      <td>-</td>\n",
              "      <td>-</td>\n",
              "      <td>0.5</td>\n",
              "      <td>expert_vs_expert</td>\n",
              "    </tr>\n",
              "    <tr>\n",
              "      <th>3</th>\n",
              "      <td>1</td>\n",
              "      <td>4</td>\n",
              "      <td>O</td>\n",
              "      <td>-</td>\n",
              "      <td>X</td>\n",
              "      <td>X</td>\n",
              "      <td>-</td>\n",
              "      <td>O</td>\n",
              "      <td>-</td>\n",
              "      <td>-</td>\n",
              "      <td>-</td>\n",
              "      <td>0.5</td>\n",
              "      <td>expert_vs_expert</td>\n",
              "    </tr>\n",
              "    <tr>\n",
              "      <th>4</th>\n",
              "      <td>1</td>\n",
              "      <td>5</td>\n",
              "      <td>X</td>\n",
              "      <td>X</td>\n",
              "      <td>O</td>\n",
              "      <td>O</td>\n",
              "      <td>-</td>\n",
              "      <td>X</td>\n",
              "      <td>-</td>\n",
              "      <td>-</td>\n",
              "      <td>-</td>\n",
              "      <td>0.5</td>\n",
              "      <td>expert_vs_expert</td>\n",
              "    </tr>\n",
              "    <tr>\n",
              "      <th>...</th>\n",
              "      <td>...</td>\n",
              "      <td>...</td>\n",
              "      <td>...</td>\n",
              "      <td>...</td>\n",
              "      <td>...</td>\n",
              "      <td>...</td>\n",
              "      <td>...</td>\n",
              "      <td>...</td>\n",
              "      <td>...</td>\n",
              "      <td>...</td>\n",
              "      <td>...</td>\n",
              "      <td>...</td>\n",
              "      <td>...</td>\n",
              "    </tr>\n",
              "    <tr>\n",
              "      <th>7619</th>\n",
              "      <td>1000</td>\n",
              "      <td>1</td>\n",
              "      <td>-</td>\n",
              "      <td>X</td>\n",
              "      <td>-</td>\n",
              "      <td>-</td>\n",
              "      <td>-</td>\n",
              "      <td>-</td>\n",
              "      <td>-</td>\n",
              "      <td>-</td>\n",
              "      <td>-</td>\n",
              "      <td>1.0</td>\n",
              "      <td>random_vs_random</td>\n",
              "    </tr>\n",
              "    <tr>\n",
              "      <th>7620</th>\n",
              "      <td>1000</td>\n",
              "      <td>2</td>\n",
              "      <td>-</td>\n",
              "      <td>O</td>\n",
              "      <td>-</td>\n",
              "      <td>-</td>\n",
              "      <td>-</td>\n",
              "      <td>X</td>\n",
              "      <td>-</td>\n",
              "      <td>-</td>\n",
              "      <td>-</td>\n",
              "      <td>1.0</td>\n",
              "      <td>random_vs_random</td>\n",
              "    </tr>\n",
              "    <tr>\n",
              "      <th>7621</th>\n",
              "      <td>1000</td>\n",
              "      <td>3</td>\n",
              "      <td>-</td>\n",
              "      <td>X</td>\n",
              "      <td>X</td>\n",
              "      <td>-</td>\n",
              "      <td>-</td>\n",
              "      <td>O</td>\n",
              "      <td>-</td>\n",
              "      <td>-</td>\n",
              "      <td>-</td>\n",
              "      <td>1.0</td>\n",
              "      <td>random_vs_random</td>\n",
              "    </tr>\n",
              "    <tr>\n",
              "      <th>7622</th>\n",
              "      <td>1000</td>\n",
              "      <td>4</td>\n",
              "      <td>-</td>\n",
              "      <td>O</td>\n",
              "      <td>O</td>\n",
              "      <td>-</td>\n",
              "      <td>-</td>\n",
              "      <td>X</td>\n",
              "      <td>-</td>\n",
              "      <td>-</td>\n",
              "      <td>X</td>\n",
              "      <td>1.0</td>\n",
              "      <td>random_vs_random</td>\n",
              "    </tr>\n",
              "    <tr>\n",
              "      <th>7623</th>\n",
              "      <td>1000</td>\n",
              "      <td>5</td>\n",
              "      <td>X</td>\n",
              "      <td>X</td>\n",
              "      <td>X</td>\n",
              "      <td>-</td>\n",
              "      <td>-</td>\n",
              "      <td>O</td>\n",
              "      <td>-</td>\n",
              "      <td>-</td>\n",
              "      <td>O</td>\n",
              "      <td>1.0</td>\n",
              "      <td>random_vs_random</td>\n",
              "    </tr>\n",
              "  </tbody>\n",
              "</table>\n",
              "<p>29326 rows × 13 columns</p>\n",
              "</div>\n",
              "      <button class=\"colab-df-convert\" onclick=\"convertToInteractive('df-8f5680bc-4b61-46a0-b28c-2d315e346dfe')\"\n",
              "              title=\"Convert this dataframe to an interactive table.\"\n",
              "              style=\"display:none;\">\n",
              "        \n",
              "  <svg xmlns=\"http://www.w3.org/2000/svg\" height=\"24px\"viewBox=\"0 0 24 24\"\n",
              "       width=\"24px\">\n",
              "    <path d=\"M0 0h24v24H0V0z\" fill=\"none\"/>\n",
              "    <path d=\"M18.56 5.44l.94 2.06.94-2.06 2.06-.94-2.06-.94-.94-2.06-.94 2.06-2.06.94zm-11 1L8.5 8.5l.94-2.06 2.06-.94-2.06-.94L8.5 2.5l-.94 2.06-2.06.94zm10 10l.94 2.06.94-2.06 2.06-.94-2.06-.94-.94-2.06-.94 2.06-2.06.94z\"/><path d=\"M17.41 7.96l-1.37-1.37c-.4-.4-.92-.59-1.43-.59-.52 0-1.04.2-1.43.59L10.3 9.45l-7.72 7.72c-.78.78-.78 2.05 0 2.83L4 21.41c.39.39.9.59 1.41.59.51 0 1.02-.2 1.41-.59l7.78-7.78 2.81-2.81c.8-.78.8-2.07 0-2.86zM5.41 20L4 18.59l7.72-7.72 1.47 1.35L5.41 20z\"/>\n",
              "  </svg>\n",
              "      </button>\n",
              "      \n",
              "  <style>\n",
              "    .colab-df-container {\n",
              "      display:flex;\n",
              "      flex-wrap:wrap;\n",
              "      gap: 12px;\n",
              "    }\n",
              "\n",
              "    .colab-df-convert {\n",
              "      background-color: #E8F0FE;\n",
              "      border: none;\n",
              "      border-radius: 50%;\n",
              "      cursor: pointer;\n",
              "      display: none;\n",
              "      fill: #1967D2;\n",
              "      height: 32px;\n",
              "      padding: 0 0 0 0;\n",
              "      width: 32px;\n",
              "    }\n",
              "\n",
              "    .colab-df-convert:hover {\n",
              "      background-color: #E2EBFA;\n",
              "      box-shadow: 0px 1px 2px rgba(60, 64, 67, 0.3), 0px 1px 3px 1px rgba(60, 64, 67, 0.15);\n",
              "      fill: #174EA6;\n",
              "    }\n",
              "\n",
              "    [theme=dark] .colab-df-convert {\n",
              "      background-color: #3B4455;\n",
              "      fill: #D2E3FC;\n",
              "    }\n",
              "\n",
              "    [theme=dark] .colab-df-convert:hover {\n",
              "      background-color: #434B5C;\n",
              "      box-shadow: 0px 1px 3px 1px rgba(0, 0, 0, 0.15);\n",
              "      filter: drop-shadow(0px 1px 2px rgba(0, 0, 0, 0.3));\n",
              "      fill: #FFFFFF;\n",
              "    }\n",
              "  </style>\n",
              "\n",
              "      <script>\n",
              "        const buttonEl =\n",
              "          document.querySelector('#df-8f5680bc-4b61-46a0-b28c-2d315e346dfe button.colab-df-convert');\n",
              "        buttonEl.style.display =\n",
              "          google.colab.kernel.accessAllowed ? 'block' : 'none';\n",
              "\n",
              "        async function convertToInteractive(key) {\n",
              "          const element = document.querySelector('#df-8f5680bc-4b61-46a0-b28c-2d315e346dfe');\n",
              "          const dataTable =\n",
              "            await google.colab.kernel.invokeFunction('convertToInteractive',\n",
              "                                                     [key], {});\n",
              "          if (!dataTable) return;\n",
              "\n",
              "          const docLinkHtml = 'Like what you see? Visit the ' +\n",
              "            '<a target=\"_blank\" href=https://colab.research.google.com/notebooks/data_table.ipynb>data table notebook</a>'\n",
              "            + ' to learn more about interactive tables.';\n",
              "          element.innerHTML = '';\n",
              "          dataTable['output_type'] = 'display_data';\n",
              "          await google.colab.output.renderOutput(dataTable, element);\n",
              "          const docLink = document.createElement('div');\n",
              "          docLink.innerHTML = docLinkHtml;\n",
              "          element.appendChild(docLink);\n",
              "        }\n",
              "      </script>\n",
              "    </div>\n",
              "  </div>\n",
              "  "
            ],
            "text/plain": [
              "      game_id  move_id a1 b1 c1 a2 b2 c2 a3 b3 c3  outcome        dataset_id\n",
              "0           1        1  -  -  -  -  -  X  -  -  -      0.5  expert_vs_expert\n",
              "1           1        2  -  -  X  -  -  O  -  -  -      0.5  expert_vs_expert\n",
              "2           1        3  X  -  O  -  -  X  -  -  -      0.5  expert_vs_expert\n",
              "3           1        4  O  -  X  X  -  O  -  -  -      0.5  expert_vs_expert\n",
              "4           1        5  X  X  O  O  -  X  -  -  -      0.5  expert_vs_expert\n",
              "...       ...      ... .. .. .. .. .. .. .. .. ..      ...               ...\n",
              "7619     1000        1  -  X  -  -  -  -  -  -  -      1.0  random_vs_random\n",
              "7620     1000        2  -  O  -  -  -  X  -  -  -      1.0  random_vs_random\n",
              "7621     1000        3  -  X  X  -  -  O  -  -  -      1.0  random_vs_random\n",
              "7622     1000        4  -  O  O  -  -  X  -  -  X      1.0  random_vs_random\n",
              "7623     1000        5  X  X  X  -  -  O  -  -  O      1.0  random_vs_random\n",
              "\n",
              "[29326 rows x 13 columns]"
            ]
          },
          "metadata": {},
          "execution_count": 84
        }
      ]
    },
    {
      "cell_type": "code",
      "source": [
        "df_normalized.to_csv(\"move_values_normalized.csv\")"
      ],
      "metadata": {
        "id": "L2hwCS19P3F3"
      },
      "execution_count": 85,
      "outputs": []
    }
  ]
}